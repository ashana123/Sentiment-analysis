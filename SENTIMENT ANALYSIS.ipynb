{
 "cells": [
  {
   "cell_type": "code",
   "execution_count": 1,
   "id": "a4d43cea",
   "metadata": {},
   "outputs": [
    {
     "name": "stderr",
     "output_type": "stream",
     "text": [
      "[nltk_data] Downloading package stopwords to\n",
      "[nltk_data]     C:\\Users\\hp5cd\\AppData\\Roaming\\nltk_data...\n",
      "[nltk_data]   Package stopwords is already up-to-date!\n",
      "[nltk_data] Downloading package punkt to\n",
      "[nltk_data]     C:\\Users\\hp5cd\\AppData\\Roaming\\nltk_data...\n",
      "[nltk_data]   Package punkt is already up-to-date!\n"
     ]
    }
   ],
   "source": [
    "import numpy as np\n",
    "import pandas as pd\n",
    "import os\n",
    "import re\n",
    "import nltk\n",
    "nltk.download('stopwords')\n",
    "nltk.download('punkt')\n",
    "from nltk.corpus import stopwords\n",
    "STOPWORDS = set(stopwords.words('english'))\n",
    "import matplotlib.pyplot as plt\n",
    "from sklearn.feature_extraction.text import CountVectorizer,TfidfVectorizer\n",
    "from sklearn.model_selection import train_test_split\n",
    "from sklearn.ensemble import RandomForestClassifier\n",
    "from sklearn.linear_model import LogisticRegression\n",
    "from sklearn.svm import LinearSVC\n",
    "from sklearn.naive_bayes import MultinomialNB\n",
    "from sklearn.metrics import classification_report, confusion_matrix, accuracy_score"
   ]
  },
  {
   "cell_type": "code",
   "execution_count": 2,
   "id": "395c84ef",
   "metadata": {},
   "outputs": [
    {
     "data": {
      "text/html": [
       "<div>\n",
       "<style scoped>\n",
       "    .dataframe tbody tr th:only-of-type {\n",
       "        vertical-align: middle;\n",
       "    }\n",
       "\n",
       "    .dataframe tbody tr th {\n",
       "        vertical-align: top;\n",
       "    }\n",
       "\n",
       "    .dataframe thead th {\n",
       "        text-align: right;\n",
       "    }\n",
       "</style>\n",
       "<table border=\"1\" class=\"dataframe\">\n",
       "  <thead>\n",
       "    <tr style=\"text-align: right;\">\n",
       "      <th></th>\n",
       "      <th>label</th>\n",
       "      <th>tweet</th>\n",
       "    </tr>\n",
       "  </thead>\n",
       "  <tbody>\n",
       "    <tr>\n",
       "      <th>0</th>\n",
       "      <td>positive</td>\n",
       "      <td>@VirginAmerica nervous about my flight from DC...</td>\n",
       "    </tr>\n",
       "    <tr>\n",
       "      <th>1</th>\n",
       "      <td>positive</td>\n",
       "      <td>@VirginAmerica cool picture of another VirginA...</td>\n",
       "    </tr>\n",
       "    <tr>\n",
       "      <th>2</th>\n",
       "      <td>positive</td>\n",
       "      <td>@VirginAmerica Keep up the great work :)</td>\n",
       "    </tr>\n",
       "    <tr>\n",
       "      <th>3</th>\n",
       "      <td>positive</td>\n",
       "      <td>@VirginAmerica my goodness your people @love f...</td>\n",
       "    </tr>\n",
       "    <tr>\n",
       "      <th>4</th>\n",
       "      <td>positive</td>\n",
       "      <td>@VirginAmerica Thanks for a great flight from ...</td>\n",
       "    </tr>\n",
       "  </tbody>\n",
       "</table>\n",
       "</div>"
      ],
      "text/plain": [
       "      label                                              tweet\n",
       "0  positive  @VirginAmerica nervous about my flight from DC...\n",
       "1  positive  @VirginAmerica cool picture of another VirginA...\n",
       "2  positive           @VirginAmerica Keep up the great work :)\n",
       "3  positive  @VirginAmerica my goodness your people @love f...\n",
       "4  positive  @VirginAmerica Thanks for a great flight from ..."
      ]
     },
     "execution_count": 2,
     "metadata": {},
     "output_type": "execute_result"
    }
   ],
   "source": [
    "input_data = pd.read_csv('TWEETS.csv')\n",
    "input_data = input_data[['label','tweet']]\n",
    "#scan the dataframe\n",
    "input_data.head()"
   ]
  },
  {
   "cell_type": "code",
   "execution_count": 3,
   "id": "24bf5d46",
   "metadata": {},
   "outputs": [
    {
     "data": {
      "text/plain": [
       "(14438, 2)"
      ]
     },
     "execution_count": 3,
     "metadata": {},
     "output_type": "execute_result"
    }
   ],
   "source": [
    "input_data.shape"
   ]
  },
  {
   "cell_type": "code",
   "execution_count": 4,
   "id": "f468a93f",
   "metadata": {},
   "outputs": [
    {
     "data": {
      "image/png": "[encoded data removed]",
      "text/plain": [
       "<Figure size 1000x500 with 1 Axes>"
      ]
     },
     "metadata": {},
     "output_type": "display_data"
    }
   ],
   "source": [
    "label_dist = input_data['label'].value_counts().to_dict()\n",
    "fig = plt.figure(figsize = (10, 5))\n",
    "ax = plt.bar(label_dist.keys(), label_dist.values(), width=0.25)\n",
    "plt.xticks([0,1,2])\n",
    "plt.xlabel(\"Sentiment\")\n",
    "plt.ylabel(\"Tweet Count\")\n",
    "plt.show()"
   ]
  },
  {
   "cell_type": "code",
   "execution_count": 5,
   "id": "88e2d06d",
   "metadata": {},
   "outputs": [
    {
     "data": {
      "text/plain": [
       "212"
      ]
     },
     "execution_count": 5,
     "metadata": {},
     "output_type": "execute_result"
    }
   ],
   "source": [
    "len(input_data['tweet'])-len(input_data['tweet'].drop_duplicates())"
   ]
  },
  {
   "cell_type": "code",
   "execution_count": 6,
   "id": "ff9fc82f",
   "metadata": {},
   "outputs": [
    {
     "data": {
      "text/plain": [
       "(14226, 2)"
      ]
     },
     "execution_count": 6,
     "metadata": {},
     "output_type": "execute_result"
    }
   ],
   "source": [
    "input_data=input_data.drop_duplicates(subset='tweet', keep=\"last\")\n",
    "input_data.shape"
   ]
  },
  {
   "cell_type": "code",
   "execution_count": 7,
   "id": "29535999",
   "metadata": {},
   "outputs": [],
   "source": [
    "input_data['length']=input_data['tweet'].apply(lambda x: len(x.split(' ')))"
   ]
  },
  {
   "cell_type": "code",
   "execution_count": 8,
   "id": "ef9b232c",
   "metadata": {},
   "outputs": [
    {
     "data": {
      "text/html": [
       "<div>\n",
       "<style scoped>\n",
       "    .dataframe tbody tr th:only-of-type {\n",
       "        vertical-align: middle;\n",
       "    }\n",
       "\n",
       "    .dataframe tbody tr th {\n",
       "        vertical-align: top;\n",
       "    }\n",
       "\n",
       "    .dataframe thead th {\n",
       "        text-align: right;\n",
       "    }\n",
       "</style>\n",
       "<table border=\"1\" class=\"dataframe\">\n",
       "  <thead>\n",
       "    <tr style=\"text-align: right;\">\n",
       "      <th></th>\n",
       "      <th>label</th>\n",
       "      <th>tweet</th>\n",
       "      <th>length</th>\n",
       "    </tr>\n",
       "  </thead>\n",
       "  <tbody>\n",
       "    <tr>\n",
       "      <th>1696</th>\n",
       "      <td>negative</td>\n",
       "      <td>@united you should spend all of the money you ...</td>\n",
       "      <td>23</td>\n",
       "    </tr>\n",
       "    <tr>\n",
       "      <th>3797</th>\n",
       "      <td>negative</td>\n",
       "      <td>@united My wife has been on the phone several ...</td>\n",
       "      <td>17</td>\n",
       "    </tr>\n",
       "    <tr>\n",
       "      <th>6920</th>\n",
       "      <td>negative</td>\n",
       "      <td>:( RT @JetBlue: Our fleet's on fleek. http://t...</td>\n",
       "      <td>8</td>\n",
       "    </tr>\n",
       "    <tr>\n",
       "      <th>6750</th>\n",
       "      <td>negative</td>\n",
       "      <td>@JetBlue @MrJustyn I heard companies were stud...</td>\n",
       "      <td>18</td>\n",
       "    </tr>\n",
       "    <tr>\n",
       "      <th>1554</th>\n",
       "      <td>negative</td>\n",
       "      <td>@united thanks for having no one to pilot my l...</td>\n",
       "      <td>26</td>\n",
       "    </tr>\n",
       "    <tr>\n",
       "      <th>2879</th>\n",
       "      <td>negative</td>\n",
       "      <td>@united then send your Jeff Smisek on a trip w...</td>\n",
       "      <td>27</td>\n",
       "    </tr>\n",
       "    <tr>\n",
       "      <th>5170</th>\n",
       "      <td>positive</td>\n",
       "      <td>@southwestair your attendants at the ATL airpo...</td>\n",
       "      <td>18</td>\n",
       "    </tr>\n",
       "    <tr>\n",
       "      <th>6889</th>\n",
       "      <td>positive</td>\n",
       "      <td>@JetBlue with 3 kids and 11 days 340 + doesn't...</td>\n",
       "      <td>16</td>\n",
       "    </tr>\n",
       "    <tr>\n",
       "      <th>7224</th>\n",
       "      <td>positive</td>\n",
       "      <td>@JetBlue woof I'm on the red cArpet http://t.c...</td>\n",
       "      <td>8</td>\n",
       "    </tr>\n",
       "    <tr>\n",
       "      <th>2969</th>\n",
       "      <td>negative</td>\n",
       "      <td>@united I did they did not.  I did submit a co...</td>\n",
       "      <td>30</td>\n",
       "    </tr>\n",
       "  </tbody>\n",
       "</table>\n",
       "</div>"
      ],
      "text/plain": [
       "         label                                              tweet  length\n",
       "1696  negative  @united you should spend all of the money you ...      23\n",
       "3797  negative  @united My wife has been on the phone several ...      17\n",
       "6920  negative  :( RT @JetBlue: Our fleet's on fleek. http://t...       8\n",
       "6750  negative  @JetBlue @MrJustyn I heard companies were stud...      18\n",
       "1554  negative  @united thanks for having no one to pilot my l...      26\n",
       "2879  negative  @united then send your Jeff Smisek on a trip w...      27\n",
       "5170  positive  @southwestair your attendants at the ATL airpo...      18\n",
       "6889  positive  @JetBlue with 3 kids and 11 days 340 + doesn't...      16\n",
       "7224  positive  @JetBlue woof I'm on the red cArpet http://t.c...       8\n",
       "2969  negative  @united I did they did not.  I did submit a co...      30"
      ]
     },
     "execution_count": 8,
     "metadata": {},
     "output_type": "execute_result"
    }
   ],
   "source": [
    "input_data.sample(10)"
   ]
  },
  {
   "cell_type": "code",
   "execution_count": 9,
   "id": "91f418df",
   "metadata": {},
   "outputs": [
    {
     "name": "stdout",
     "output_type": "stream",
     "text": [
      "20\n",
      "14\n"
     ]
    }
   ],
   "source": [
    "print(round(input_data[input_data['label']=='negative']['length'].mean()))\n",
    "print(round(input_data[input_data['label']=='positive']['length'].mean()))"
   ]
  },
  {
   "cell_type": "code",
   "execution_count": 10,
   "id": "2fd93722",
   "metadata": {},
   "outputs": [
    {
     "data": {
      "text/plain": [
       "<Axes: ylabel='Frequency'>"
      ]
     },
     "execution_count": 10,
     "metadata": {},
     "output_type": "execute_result"
    },
    {
     "data": {
      "image/png": "[encoded data removed]",
      "text/plain": [
       "<Figure size 640x480 with 1 Axes>"
      ]
     },
     "metadata": {},
     "output_type": "display_data"
    }
   ],
   "source": [
    "input_data[input_data['label']=='negative']['length'].plot.hist(bins=10)\n",
    "input_data[input_data['label']=='positive']['length'].plot.hist(bins=10)"
   ]
  },
  {
   "cell_type": "code",
   "execution_count": 11,
   "id": "e3fa7cf2",
   "metadata": {},
   "outputs": [],
   "source": [
    "input_data[\"tweet_new\"]=input_data[\"tweet\"].apply(lambda x: ' '.join([word for word in x.split() if word not in (STOPWORDS)]))"
   ]
  },
  {
   "cell_type": "code",
   "execution_count": 12,
   "id": "69ced3c3",
   "metadata": {},
   "outputs": [],
   "source": [
    "def text_clean(tweet):\n",
    "    #lowercase the tweet\n",
    "    tweet=tweet.lower()\n",
    "    #remove punctuation \n",
    "    tweet = re.sub('[()!?]', ' ', tweet)\n",
    "    tweet = re.sub('\\[.*?\\]',' ', tweet)\n",
    "    #remove non alphanumeric occurences\n",
    "    tweet = re.sub(\"[^a-z0-9]\",\" \", tweet)\n",
    "    #remove the @mention\n",
    "    tweet = re.sub(\"@[A-Za-z0-9_]+\",\"\", tweet)\n",
    "    #remove the hastags\n",
    "    tweet = re.sub(\"#[A-Za-z0-9_]+\",\"\", tweet)\n",
    "    #remove any links \n",
    "    tweet = re.sub(r\"http\\S+\", \"\", tweet)\n",
    "    tweet = re.sub(r\"www.\\S+\", \"\", tweet)\n",
    "    return tweet"
   ]
  },
  {
   "cell_type": "code",
   "execution_count": 13,
   "id": "fbb1500d",
   "metadata": {},
   "outputs": [],
   "source": [
    "input_data['clean_tweet'] = input_data['tweet_new'].apply(text_clean)"
   ]
  },
  {
   "cell_type": "code",
   "execution_count": 14,
   "id": "a3b1c73f",
   "metadata": {},
   "outputs": [
    {
     "data": {
      "text/html": [
       "<div>\n",
       "<style scoped>\n",
       "    .dataframe tbody tr th:only-of-type {\n",
       "        vertical-align: middle;\n",
       "    }\n",
       "\n",
       "    .dataframe tbody tr th {\n",
       "        vertical-align: top;\n",
       "    }\n",
       "\n",
       "    .dataframe thead th {\n",
       "        text-align: right;\n",
       "    }\n",
       "</style>\n",
       "<table border=\"1\" class=\"dataframe\">\n",
       "  <thead>\n",
       "    <tr style=\"text-align: right;\">\n",
       "      <th></th>\n",
       "      <th>tweet</th>\n",
       "      <th>clean_tweet</th>\n",
       "    </tr>\n",
       "  </thead>\n",
       "  <tbody>\n",
       "    <tr>\n",
       "      <th>10889</th>\n",
       "      <td>@USAirways please secure the 'footrest' shelf'...</td>\n",
       "      <td>usairways please secure  footrest  shelf  bus...</td>\n",
       "    </tr>\n",
       "    <tr>\n",
       "      <th>9602</th>\n",
       "      <td>@USAirways what is wrong with you guys and you...</td>\n",
       "      <td>usairways wrong guys inability get planes phi...</td>\n",
       "    </tr>\n",
       "    <tr>\n",
       "      <th>2422</th>\n",
       "      <td>@united y not? You're the reason we're in Hous...</td>\n",
       "      <td>united not  you re reason we re houston nyc t...</td>\n",
       "    </tr>\n",
       "    <tr>\n",
       "      <th>9254</th>\n",
       "      <td>@USAirways nice try at the gate making travele...</td>\n",
       "      <td>usairways nice try gate making traveler trave...</td>\n",
       "    </tr>\n",
       "    <tr>\n",
       "      <th>2196</th>\n",
       "      <td>@united yes 1427 Cancelled Flightled. Moved to...</td>\n",
       "      <td>united yes 1427 cancelled flightled  moved 33...</td>\n",
       "    </tr>\n",
       "    <tr>\n",
       "      <th>8637</th>\n",
       "      <td>@jetblue any idea where the plane for flight 6...</td>\n",
       "      <td>jetblue idea plane flight 672 coming from  i ...</td>\n",
       "    </tr>\n",
       "    <tr>\n",
       "      <th>12560</th>\n",
       "      <td>@AmericanAir - cluster continues-still on conn...</td>\n",
       "      <td>americanair   cluster continues still connect...</td>\n",
       "    </tr>\n",
       "    <tr>\n",
       "      <th>400</th>\n",
       "      <td>@united dm these nuts</td>\n",
       "      <td>united dm nuts</td>\n",
       "    </tr>\n",
       "    <tr>\n",
       "      <th>7353</th>\n",
       "      <td>@JetBlue BOS. Everything current now. Thanks f...</td>\n",
       "      <td>jetblue bos  everything current now  thanks f...</td>\n",
       "    </tr>\n",
       "    <tr>\n",
       "      <th>12771</th>\n",
       "      <td>@AmericanAir What's with your baggage handlers...</td>\n",
       "      <td>americanair what s baggage handlers calling d...</td>\n",
       "    </tr>\n",
       "  </tbody>\n",
       "</table>\n",
       "</div>"
      ],
      "text/plain": [
       "                                                   tweet  \\\n",
       "10889  @USAirways please secure the 'footrest' shelf'...   \n",
       "9602   @USAirways what is wrong with you guys and you...   \n",
       "2422   @united y not? You're the reason we're in Hous...   \n",
       "9254   @USAirways nice try at the gate making travele...   \n",
       "2196   @united yes 1427 Cancelled Flightled. Moved to...   \n",
       "8637   @jetblue any idea where the plane for flight 6...   \n",
       "12560  @AmericanAir - cluster continues-still on conn...   \n",
       "400                                @united dm these nuts   \n",
       "7353   @JetBlue BOS. Everything current now. Thanks f...   \n",
       "12771  @AmericanAir What's with your baggage handlers...   \n",
       "\n",
       "                                             clean_tweet  \n",
       "10889   usairways please secure  footrest  shelf  bus...  \n",
       "9602    usairways wrong guys inability get planes phi...  \n",
       "2422    united not  you re reason we re houston nyc t...  \n",
       "9254    usairways nice try gate making traveler trave...  \n",
       "2196    united yes 1427 cancelled flightled  moved 33...  \n",
       "8637    jetblue idea plane flight 672 coming from  i ...  \n",
       "12560   americanair   cluster continues still connect...  \n",
       "400                                       united dm nuts  \n",
       "7353    jetblue bos  everything current now  thanks f...  \n",
       "12771   americanair what s baggage handlers calling d...  "
      ]
     },
     "execution_count": 14,
     "metadata": {},
     "output_type": "execute_result"
    }
   ],
   "source": [
    "input_data[['tweet','clean_tweet']].sample(10)"
   ]
  },
  {
   "cell_type": "code",
   "execution_count": 15,
   "id": "5feb4958",
   "metadata": {},
   "outputs": [],
   "source": [
    "input_data['new_length']=input_data['clean_tweet'].apply(lambda x: len(x.split(\" \")))"
   ]
  },
  {
   "cell_type": "code",
   "execution_count": 16,
   "id": "27cacf44",
   "metadata": {},
   "outputs": [
    {
     "name": "stdout",
     "output_type": "stream",
     "text": [
      "18\n",
      "15\n"
     ]
    }
   ],
   "source": [
    "print(round(input_data[input_data['label']=='negative']['new_length'].mean()))\n",
    "print(round(input_data[input_data['label']=='positive']['new_length'].mean()))\n"
   ]
  },
  {
   "cell_type": "code",
   "execution_count": 17,
   "id": "fa469ec3",
   "metadata": {},
   "outputs": [
    {
     "data": {
      "text/plain": [
       "<Axes: ylabel='Frequency'>"
      ]
     },
     "execution_count": 17,
     "metadata": {},
     "output_type": "execute_result"
    },
    {
     "data": {
      "image/png": "[encoded data removed]",
      "text/plain": [
       "<Figure size 640x480 with 1 Axes>"
      ]
     },
     "metadata": {},
     "output_type": "display_data"
    }
   ],
   "source": [
    "input_data[input_data['label']=='negative']['new_length'].plot.hist(bins=10)\n",
    "input_data[input_data['label']=='positive']['new_length'].plot.hist(bins=10)\n"
   ]
  },
  {
   "cell_type": "code",
   "execution_count": 18,
   "id": "b7eb5cd0",
   "metadata": {},
   "outputs": [],
   "source": [
    "top_words = 20\n",
    "#tokenize the tweets into individual tokens\n",
    "words = nltk.tokenize.word_tokenize(input_data['clean_tweet'].str.cat(sep=' '))\n",
    "#list of redundant words to be not considered in the frequency count\n",
    "dropwords=['to','i','the','a','you','for','on','and','t','is','in','it','of','me','my','that','can','have','not','s',\n",
    "          'co','http','are','was','with','at','your','this','we','be','2','get','from','an','do','so','up','m']\n",
    "filter_words = [word for word in words if word not in dropwords]"
   ]
  },
  {
   "cell_type": "code",
   "execution_count": 19,
   "id": "0b58962e",
   "metadata": {},
   "outputs": [],
   "source": [
    "#Use the FreqDist function from nltk for freq count\n",
    "word_freq = nltk.FreqDist(filter_words)\n",
    "#create the dataframe for top occuring words\n",
    "wordfreq_df = pd.DataFrame(word_freq.most_common(top_words),\n",
    "                    columns=['Word', 'Frequency'])"
   ]
  },
  {
   "cell_type": "code",
   "execution_count": 20,
   "id": "aa947a98",
   "metadata": {},
   "outputs": [
    {
     "name": "stdout",
     "output_type": "stream",
     "text": [
      "            Word  Frequency\n",
      "0         united       4146\n",
      "1         flight       3829\n",
      "2      usairways       3038\n",
      "3    americanair       2798\n",
      "4   southwestair       2447\n",
      "5        jetblue       2382\n",
      "6         thanks       1035\n",
      "7      cancelled       1031\n",
      "8        service        948\n",
      "9           help        856\n",
      "10          time        773\n",
      "11      customer        741\n",
      "12           amp        667\n",
      "13         hours        664\n",
      "14            us        662\n",
      "15          hold        636\n",
      "16         plane        630\n",
      "17       flights        630\n",
      "18         still        576\n",
      "19         thank        571\n"
     ]
    }
   ],
   "source": [
    "print(wordfreq_df)"
   ]
  },
  {
   "cell_type": "code",
   "execution_count": 21,
   "id": "246a051e",
   "metadata": {},
   "outputs": [],
   "source": [
    "X_train, X_test, y_train, y_test = train_test_split(input_data[\"clean_tweet\"],\n",
    "                                                    input_data[\"label\"],test_size=0.3,\n",
    "                                                    stratify=input_data['label'])"
   ]
  },
  {
   "cell_type": "code",
   "execution_count": 22,
   "id": "58596534",
   "metadata": {},
   "outputs": [
    {
     "name": "stdout",
     "output_type": "stream",
     "text": [
      "9958 4268\n"
     ]
    }
   ],
   "source": [
    "print(X_train.shape[0],X_test.shape[0])"
   ]
  },
  {
   "cell_type": "code",
   "execution_count": 23,
   "id": "e84a9789",
   "metadata": {},
   "outputs": [
    {
     "name": "stdout",
     "output_type": "stream",
     "text": [
      "label\n",
      "negative    6301\n",
      "positive    3657\n",
      "Name: count, dtype: int64\n"
     ]
    }
   ],
   "source": [
    "print(y_train.value_counts())"
   ]
  },
  {
   "cell_type": "code",
   "execution_count": 24,
   "id": "d553458d",
   "metadata": {},
   "outputs": [
    {
     "name": "stdout",
     "output_type": "stream",
     "text": [
      "label\n",
      "negative    2701\n",
      "positive    1567\n",
      "Name: count, dtype: int64\n"
     ]
    }
   ],
   "source": [
    "print(y_test.value_counts())"
   ]
  },
  {
   "cell_type": "code",
   "execution_count": 25,
   "id": "96245d8d",
   "metadata": {},
   "outputs": [],
   "source": [
    "vectorizer = CountVectorizer(token_pattern=r'\\b\\w+\\b')\n",
    "X_train_vec = vectorizer.fit_transform(X_train)\n",
    "X_test_vec = vectorizer.transform(X_test)"
   ]
  },
  {
   "cell_type": "code",
   "execution_count": 26,
   "id": "64afbd5d",
   "metadata": {},
   "outputs": [
    {
     "name": "stdout",
     "output_type": "stream",
     "text": [
      "[[2353  415]\n",
      " [ 348 1152]]\n",
      "              precision    recall  f1-score   support\n",
      "\n",
      "    negative       0.87      0.85      0.86      2768\n",
      "    positive       0.74      0.77      0.75      1500\n",
      "\n",
      "    accuracy                           0.82      4268\n",
      "   macro avg       0.80      0.81      0.81      4268\n",
      "weighted avg       0.82      0.82      0.82      4268\n",
      "\n"
     ]
    },
    {
     "name": "stderr",
     "output_type": "stream",
     "text": [
      "C:\\Users\\hp5cd\\anaconda3\\Lib\\site-packages\\sklearn\\linear_model\\_logistic.py:460: ConvergenceWarning: lbfgs failed to converge (status=1):\n",
      "STOP: TOTAL NO. of ITERATIONS REACHED LIMIT.\n",
      "\n",
      "Increase the number of iterations (max_iter) or scale the data as shown in:\n",
      "    https://scikit-learn.org/stable/modules/preprocessing.html\n",
      "Please also refer to the documentation for alternative solver options:\n",
      "    https://scikit-learn.org/stable/modules/linear_model.html#logistic-regression\n",
      "  n_iter_i = _check_optimize_result(\n"
     ]
    }
   ],
   "source": [
    "lr = LogisticRegression()\n",
    "lr.fit(X_train_vec,y_train)\n",
    "print(confusion_matrix(lr.predict(X_test_vec),y_test))\n",
    "print(classification_report(lr.predict(X_test_vec),y_test))"
   ]
  },
  {
   "cell_type": "code",
   "execution_count": 28,
   "id": "2e193386",
   "metadata": {},
   "outputs": [
    {
     "name": "stdout",
     "output_type": "stream",
     "text": [
      "[[2513  589]\n",
      " [ 188  978]]\n",
      "              precision    recall  f1-score   support\n",
      "\n",
      "    negative       0.93      0.81      0.87      3102\n",
      "    positive       0.62      0.84      0.72      1166\n",
      "\n",
      "    accuracy                           0.82      4268\n",
      "   macro avg       0.78      0.82      0.79      4268\n",
      "weighted avg       0.85      0.82      0.83      4268\n",
      "\n"
     ]
    }
   ],
   "source": [
    "#train and evaluate the multinominal Naive Baysian Classifier model \n",
    "MNB = MultinomialNB()\n",
    "MNB.fit(X_train_vec,y_train)\n",
    "print(confusion_matrix(MNB.predict(X_test_vec),y_test))\n",
    "print(classification_report(MNB.predict(X_test_vec),y_test))"
   ]
  },
  {
   "cell_type": "code",
   "execution_count": 29,
   "id": "2c15fd5a",
   "metadata": {},
   "outputs": [
    {
     "name": "stdout",
     "output_type": "stream",
     "text": [
      "[[2372  516]\n",
      " [ 329 1051]]\n",
      "              precision    recall  f1-score   support\n",
      "\n",
      "    negative       0.88      0.82      0.85      2888\n",
      "    positive       0.67      0.76      0.71      1380\n",
      "\n",
      "    accuracy                           0.80      4268\n",
      "   macro avg       0.77      0.79      0.78      4268\n",
      "weighted avg       0.81      0.80      0.80      4268\n",
      "\n"
     ]
    }
   ],
   "source": [
    "rf = RandomForestClassifier(n_estimators=100)\n",
    "rf.fit(X_train_vec,y_train)\n",
    "print(confusion_matrix(rf.predict(X_test_vec),y_test))\n",
    "print(classification_report(rf.predict(X_test_vec),y_test))\n"
   ]
  },
  {
   "cell_type": "code",
   "execution_count": 30,
   "id": "d400e379",
   "metadata": {},
   "outputs": [
    {
     "name": "stdout",
     "output_type": "stream",
     "text": [
      "[[2457  525]\n",
      " [ 244 1042]]\n",
      "              precision    recall  f1-score   support\n",
      "\n",
      "    negative       0.91      0.82      0.86      2982\n",
      "    positive       0.66      0.81      0.73      1286\n",
      "\n",
      "    accuracy                           0.82      4268\n",
      "   macro avg       0.79      0.82      0.80      4268\n",
      "weighted avg       0.84      0.82      0.82      4268\n",
      "\n"
     ]
    }
   ],
   "source": [
    "vectorizertfidf = TfidfVectorizer(use_idf=True)\n",
    "X_train_tfvec = vectorizertfidf.fit_transform(X_train)\n",
    "X_test_tfvec = vectorizertfidf.transform(X_test)\n",
    "lr = LogisticRegression()\n",
    "lr.fit(X_train_tfvec,y_train)\n",
    "#evaluate the performance of logistic model on test data \n",
    "print(confusion_matrix(lr.predict(X_test_tfvec),y_test))\n",
    "print(classification_report(lr.predict(X_test_tfvec),y_test))\n"
   ]
  },
  {
   "cell_type": "code",
   "execution_count": 31,
   "id": "c16ecb2a",
   "metadata": {},
   "outputs": [
    {
     "name": "stdout",
     "output_type": "stream",
     "text": [
      "[[2474  598]\n",
      " [ 227  969]]\n",
      "              precision    recall  f1-score   support\n",
      "\n",
      "    negative       0.92      0.81      0.86      3072\n",
      "    positive       0.62      0.81      0.70      1196\n",
      "\n",
      "    accuracy                           0.81      4268\n",
      "   macro avg       0.77      0.81      0.78      4268\n",
      "weighted avg       0.83      0.81      0.81      4268\n",
      "\n"
     ]
    }
   ],
   "source": [
    "rf = RandomForestClassifier(n_estimators=200, random_state=0)\n",
    "rf.fit(X_train_tfvec,y_train)\n",
    "print(confusion_matrix(rf.predict(X_test_tfvec),y_test))\n",
    "print(classification_report(rf.predict(X_test_tfvec),y_test))"
   ]
  },
  {
   "cell_type": "code",
   "execution_count": 32,
   "id": "a3647c48",
   "metadata": {},
   "outputs": [
    {
     "name": "stdout",
     "output_type": "stream",
     "text": [
      "[[2641  939]\n",
      " [  60  628]]\n",
      "              precision    recall  f1-score   support\n",
      "\n",
      "    negative       0.98      0.74      0.84      3580\n",
      "    positive       0.40      0.91      0.56       688\n",
      "\n",
      "    accuracy                           0.77      4268\n",
      "   macro avg       0.69      0.83      0.70      4268\n",
      "weighted avg       0.88      0.77      0.80      4268\n",
      "\n"
     ]
    }
   ],
   "source": [
    "MNB =  MultinomialNB()\n",
    "MNB.fit(X_train_tfvec,y_train)\n",
    "print(confusion_matrix(MNB.predict(X_test_tfvec),y_test))\n",
    "print(classification_report(MNB.predict(X_test_tfvec),y_test))"
   ]
  },
  {
   "cell_type": "code",
   "execution_count": 33,
   "id": "95656ba0",
   "metadata": {},
   "outputs": [
    {
     "name": "stdout",
     "output_type": "stream",
     "text": [
      "[[2364  435]\n",
      " [ 337 1132]]\n",
      "              precision    recall  f1-score   support\n",
      "\n",
      "    negative       0.88      0.84      0.86      2799\n",
      "    positive       0.72      0.77      0.75      1469\n",
      "\n",
      "    accuracy                           0.82      4268\n",
      "   macro avg       0.80      0.81      0.80      4268\n",
      "weighted avg       0.82      0.82      0.82      4268\n",
      "\n"
     ]
    },
    {
     "name": "stderr",
     "output_type": "stream",
     "text": [
      "C:\\Users\\hp5cd\\anaconda3\\Lib\\site-packages\\sklearn\\svm\\_classes.py:32: FutureWarning: The default value of `dual` will change from `True` to `'auto'` in 1.5. Set the value of `dual` explicitly to suppress the warning.\n",
      "  warnings.warn(\n"
     ]
    }
   ],
   "source": [
    "SVC = LinearSVC()\n",
    "SVC.fit(X_train_tfvec,y_train)\n",
    "print(confusion_matrix(SVC.predict(X_test_tfvec),y_test))\n",
    "print(classification_report(SVC.predict(X_test_tfvec),y_test))"
   ]
  },
  {
   "cell_type": "code",
   "execution_count": 35,
   "id": "8a18c449",
   "metadata": {},
   "outputs": [],
   "source": [
    "test_df=pd.read_csv('test_tweets.csv')"
   ]
  },
  {
   "cell_type": "code",
   "execution_count": 36,
   "id": "45c2fdf4",
   "metadata": {},
   "outputs": [
    {
     "data": {
      "text/plain": [
       "(202, 2)"
      ]
     },
     "execution_count": 36,
     "metadata": {},
     "output_type": "execute_result"
    }
   ],
   "source": [
    "test_df.shape"
   ]
  },
  {
   "cell_type": "code",
   "execution_count": 37,
   "id": "435a0ee9",
   "metadata": {},
   "outputs": [
    {
     "data": {
      "text/html": [
       "<div>\n",
       "<style scoped>\n",
       "    .dataframe tbody tr th:only-of-type {\n",
       "        vertical-align: middle;\n",
       "    }\n",
       "\n",
       "    .dataframe tbody tr th {\n",
       "        vertical-align: top;\n",
       "    }\n",
       "\n",
       "    .dataframe thead th {\n",
       "        text-align: right;\n",
       "    }\n",
       "</style>\n",
       "<table border=\"1\" class=\"dataframe\">\n",
       "  <thead>\n",
       "    <tr style=\"text-align: right;\">\n",
       "      <th></th>\n",
       "      <th>label</th>\n",
       "      <th>tweet</th>\n",
       "    </tr>\n",
       "  </thead>\n",
       "  <tbody>\n",
       "    <tr>\n",
       "      <th>0</th>\n",
       "      <td>positive</td>\n",
       "      <td>@VirginAmerica What @dhepburn said.</td>\n",
       "    </tr>\n",
       "    <tr>\n",
       "      <th>1</th>\n",
       "      <td>positive</td>\n",
       "      <td>@VirginAmerica plus you've added commercials t...</td>\n",
       "    </tr>\n",
       "    <tr>\n",
       "      <th>2</th>\n",
       "      <td>positive</td>\n",
       "      <td>@VirginAmerica I didn't today... Must mean I n...</td>\n",
       "    </tr>\n",
       "    <tr>\n",
       "      <th>3</th>\n",
       "      <td>negative</td>\n",
       "      <td>@VirginAmerica it's really aggressive to blast...</td>\n",
       "    </tr>\n",
       "    <tr>\n",
       "      <th>4</th>\n",
       "      <td>negative</td>\n",
       "      <td>@VirginAmerica and it's a really big bad thing...</td>\n",
       "    </tr>\n",
       "  </tbody>\n",
       "</table>\n",
       "</div>"
      ],
      "text/plain": [
       "      label                                              tweet\n",
       "0  positive                @VirginAmerica What @dhepburn said.\n",
       "1  positive  @VirginAmerica plus you've added commercials t...\n",
       "2  positive  @VirginAmerica I didn't today... Must mean I n...\n",
       "3  negative  @VirginAmerica it's really aggressive to blast...\n",
       "4  negative  @VirginAmerica and it's a really big bad thing..."
      ]
     },
     "execution_count": 37,
     "metadata": {},
     "output_type": "execute_result"
    }
   ],
   "source": [
    "test_df.head()"
   ]
  },
  {
   "cell_type": "code",
   "execution_count": 38,
   "id": "fefd7a95",
   "metadata": {},
   "outputs": [],
   "source": [
    "test_df[\"tweet\"]=test_df[\"tweet\"].apply(lambda x: ' '.join([word for word in x.split() if word not in (STOPWORDS)]))"
   ]
  },
  {
   "cell_type": "code",
   "execution_count": 39,
   "id": "57191e89",
   "metadata": {},
   "outputs": [],
   "source": [
    "test_df['tweet'] = test_df['tweet'].apply(text_clean)"
   ]
  },
  {
   "cell_type": "code",
   "execution_count": 40,
   "id": "c9522f2c",
   "metadata": {},
   "outputs": [],
   "source": [
    "test_vec = vectorizertfidf.transform(test_df['tweet'])"
   ]
  },
  {
   "cell_type": "code",
   "execution_count": 41,
   "id": "05a8b4c4",
   "metadata": {},
   "outputs": [],
   "source": [
    "predictions=lr.predict(test_vec)"
   ]
  },
  {
   "cell_type": "code",
   "execution_count": 42,
   "id": "1411c078",
   "metadata": {},
   "outputs": [
    {
     "name": "stdout",
     "output_type": "stream",
     "text": [
      "[[69 19]\n",
      " [15 99]]\n",
      "              precision    recall  f1-score   support\n",
      "\n",
      "    negative       0.82      0.78      0.80        88\n",
      "    positive       0.84      0.87      0.85       114\n",
      "\n",
      "    accuracy                           0.83       202\n",
      "   macro avg       0.83      0.83      0.83       202\n",
      "weighted avg       0.83      0.83      0.83       202\n",
      "\n"
     ]
    }
   ],
   "source": [
    "print(confusion_matrix(predictions,test_df['label']))\n",
    "print(classification_report(predictions,test_df['label']))"
   ]
  },
  {
   "cell_type": "code",
   "execution_count": 44,
   "id": "f0c6b056",
   "metadata": {},
   "outputs": [
    {
     "data": {
      "text/html": [
       "<div>\n",
       "<style scoped>\n",
       "    .dataframe tbody tr th:only-of-type {\n",
       "        vertical-align: middle;\n",
       "    }\n",
       "\n",
       "    .dataframe tbody tr th {\n",
       "        vertical-align: top;\n",
       "    }\n",
       "\n",
       "    .dataframe thead th {\n",
       "        text-align: right;\n",
       "    }\n",
       "</style>\n",
       "<table border=\"1\" class=\"dataframe\">\n",
       "  <thead>\n",
       "    <tr style=\"text-align: right;\">\n",
       "      <th></th>\n",
       "      <th>label</th>\n",
       "      <th>tweet</th>\n",
       "      <th>predictions</th>\n",
       "    </tr>\n",
       "  </thead>\n",
       "  <tbody>\n",
       "    <tr>\n",
       "      <th>0</th>\n",
       "      <td>positive</td>\n",
       "      <td>virginamerica what  dhepburn said</td>\n",
       "      <td>negative</td>\n",
       "    </tr>\n",
       "    <tr>\n",
       "      <th>1</th>\n",
       "      <td>positive</td>\n",
       "      <td>virginamerica plus added commercials experien...</td>\n",
       "      <td>positive</td>\n",
       "    </tr>\n",
       "    <tr>\n",
       "      <th>2</th>\n",
       "      <td>positive</td>\n",
       "      <td>virginamerica i today    must mean i need tak...</td>\n",
       "      <td>positive</td>\n",
       "    </tr>\n",
       "    <tr>\n",
       "      <th>3</th>\n",
       "      <td>negative</td>\n",
       "      <td>virginamerica really aggressive blast obnoxio...</td>\n",
       "      <td>negative</td>\n",
       "    </tr>\n",
       "    <tr>\n",
       "      <th>4</th>\n",
       "      <td>negative</td>\n",
       "      <td>virginamerica really big bad thing</td>\n",
       "      <td>negative</td>\n",
       "    </tr>\n",
       "    <tr>\n",
       "      <th>5</th>\n",
       "      <td>negative</td>\n",
       "      <td>virginamerica seriously would pay  30 flight ...</td>\n",
       "      <td>negative</td>\n",
       "    </tr>\n",
       "    <tr>\n",
       "      <th>6</th>\n",
       "      <td>positive</td>\n",
       "      <td>virginamerica yes  nearly every time i fly vx...</td>\n",
       "      <td>negative</td>\n",
       "    </tr>\n",
       "    <tr>\n",
       "      <th>7</th>\n",
       "      <td>positive</td>\n",
       "      <td>virginamerica really missed prime opportunity...</td>\n",
       "      <td>negative</td>\n",
       "    </tr>\n",
       "    <tr>\n",
       "      <th>8</th>\n",
       "      <td>positive</td>\n",
       "      <td>virginamerica well  i didn t but now i do    d</td>\n",
       "      <td>positive</td>\n",
       "    </tr>\n",
       "    <tr>\n",
       "      <th>9</th>\n",
       "      <td>positive</td>\n",
       "      <td>virginamerica amazing  arrived hour early  yo...</td>\n",
       "      <td>positive</td>\n",
       "    </tr>\n",
       "    <tr>\n",
       "      <th>10</th>\n",
       "      <td>positive</td>\n",
       "      <td>virginamerica know suicide second leading cau...</td>\n",
       "      <td>positive</td>\n",
       "    </tr>\n",
       "    <tr>\n",
       "      <th>11</th>\n",
       "      <td>positive</td>\n",
       "      <td>virginamerica i  lt 3 pretty graphics  much b...</td>\n",
       "      <td>positive</td>\n",
       "    </tr>\n",
       "    <tr>\n",
       "      <th>12</th>\n",
       "      <td>positive</td>\n",
       "      <td>virginamerica this great deal  already thinki...</td>\n",
       "      <td>negative</td>\n",
       "    </tr>\n",
       "    <tr>\n",
       "      <th>13</th>\n",
       "      <td>positive</td>\n",
       "      <td>virginamerica  virginmedia i m flying  fabulo...</td>\n",
       "      <td>positive</td>\n",
       "    </tr>\n",
       "    <tr>\n",
       "      <th>14</th>\n",
       "      <td>positive</td>\n",
       "      <td>virginamerica thanks</td>\n",
       "      <td>positive</td>\n",
       "    </tr>\n",
       "  </tbody>\n",
       "</table>\n",
       "</div>"
      ],
      "text/plain": [
       "       label                                              tweet predictions\n",
       "0   positive                 virginamerica what  dhepburn said     negative\n",
       "1   positive   virginamerica plus added commercials experien...    positive\n",
       "2   positive   virginamerica i today    must mean i need tak...    positive\n",
       "3   negative   virginamerica really aggressive blast obnoxio...    negative\n",
       "4   negative                 virginamerica really big bad thing    negative\n",
       "5   negative   virginamerica seriously would pay  30 flight ...    negative\n",
       "6   positive   virginamerica yes  nearly every time i fly vx...    negative\n",
       "7   positive   virginamerica really missed prime opportunity...    negative\n",
       "8   positive     virginamerica well  i didn t but now i do    d    positive\n",
       "9   positive   virginamerica amazing  arrived hour early  yo...    positive\n",
       "10  positive   virginamerica know suicide second leading cau...    positive\n",
       "11  positive   virginamerica i  lt 3 pretty graphics  much b...    positive\n",
       "12  positive   virginamerica this great deal  already thinki...    negative\n",
       "13  positive   virginamerica  virginmedia i m flying  fabulo...    positive\n",
       "14  positive                              virginamerica thanks     positive"
      ]
     },
     "execution_count": 44,
     "metadata": {},
     "output_type": "execute_result"
    }
   ],
   "source": [
    "test_df['predictions']=predictions\n",
    "#validate the final test dataframe \n",
    "test_df.head(15)"
   ]
  },
  {
   "cell_type": "code",
   "execution_count": null,
   "id": "720b98d9",
   "metadata": {},
   "outputs": [],
   "source": []
  }
 ],
 "metadata": {
  "kernelspec": {
   "display_name": "Python 3 (ipykernel)",
   "language": "python",
   "name": "python3"
  },
  "language_info": {
   "codemirror_mode": {
    "name": "ipython",
    "version": 3
   },
   "file_extension": ".py",
   "mimetype": "text/x-python",
   "name": "python",
   "nbconvert_exporter": "python",
   "pygments_lexer": "ipython3",
   "version": "3.11.5"
  }
 },
 "nbformat": 4,
 "nbformat_minor": 5
}
